{
 "cells": [
  {
   "cell_type": "markdown",
   "id": "60431e9a-9817-48bb-a821-2ba186642c6e",
   "metadata": {},
   "source": [
    "**Numpy Dizi İşlemleri**"
   ]
  },
  {
   "cell_type": "code",
   "execution_count": 6,
   "id": "f6f6b24b-edce-4805-bb96-fd804de71bdb",
   "metadata": {},
   "outputs": [],
   "source": [
    "import numpy as np #numpy kütüphanesini np takma adı ile projeye dahil ediyoruz"
   ]
  },
  {
   "cell_type": "code",
   "execution_count": 7,
   "id": "485b359d-15cb-4692-abb2-9d9c18a24fd0",
   "metadata": {},
   "outputs": [
    {
     "data": {
      "text/plain": [
       "array([[5, 5, 5],\n",
       "       [5, 5, 5],\n",
       "       [5, 5, 5],\n",
       "       [5, 5, 5]])"
      ]
     },
     "execution_count": 7,
     "metadata": {},
     "output_type": "execute_result"
    }
   ],
   "source": [
    "dizi=np.full((4,3),5) \n",
    "dizi "
   ]
  },
  {
   "cell_type": "code",
   "execution_count": 8,
   "id": "8c3d43b6-78ee-4487-afe7-5f09aa3503fd",
   "metadata": {},
   "outputs": [
    {
     "data": {
      "text/plain": [
       "array([1, 2, 3])"
      ]
     },
     "execution_count": 8,
     "metadata": {},
     "output_type": "execute_result"
    }
   ],
   "source": [
    "#yeni bir numpy dizisi oluşturuyoruz\n",
    "np.array([1,2,3])"
   ]
  },
  {
   "cell_type": "code",
   "execution_count": 9,
   "id": "26b1a75a-62cc-45bb-9c62-8f5a4b7f7cee",
   "metadata": {},
   "outputs": [],
   "source": [
    "#oluşturduğumuz diziyi bir değişkene aktarıyoruz\n",
    "dizi=np.array([\"elma\",\"erik\",\"iğde\"])"
   ]
  },
  {
   "cell_type": "code",
   "execution_count": 12,
   "id": "d7b69637-4bb4-475c-a86b-3ca9fb6262b6",
   "metadata": {},
   "outputs": [
    {
     "data": {
      "text/plain": [
       "array([1.  , 2.  , 3.14])"
      ]
     },
     "execution_count": 12,
     "metadata": {},
     "output_type": "execute_result"
    }
   ],
   "source": [
    "dizi"
   ]
  },
  {
   "cell_type": "code",
   "execution_count": null,
   "id": "59249cfe-d15e-4207-bf2b-47617e65a0cf",
   "metadata": {},
   "outputs": [],
   "source": [
    "dizi=np.array([1,2,3])"
   ]
  },
  {
   "cell_type": "code",
   "execution_count": 11,
   "id": "8c14731d-5fe2-4d71-9724-b68799089ca3",
   "metadata": {},
   "outputs": [],
   "source": [
    "dizi=np.array([1,2,3.14])"
   ]
  },
  {
   "cell_type": "code",
   "execution_count": 13,
   "id": "56778d85-fda4-42a8-9b1e-f64533468b0f",
   "metadata": {},
   "outputs": [
    {
     "data": {
      "text/plain": [
       "dtype('float64')"
      ]
     },
     "execution_count": 13,
     "metadata": {},
     "output_type": "execute_result"
    }
   ],
   "source": [
    "dizi.dtype #dizinin değişken türünü verir."
   ]
  },
  {
   "cell_type": "code",
   "execution_count": 15,
   "id": "04ab1477-358a-40c7-870b-fa68dbef2ad8",
   "metadata": {},
   "outputs": [],
   "source": [
    "dizi=np.array([1,2,3.14],dtype=int)"
   ]
  },
  {
   "cell_type": "markdown",
   "id": "8ee86088-4ef8-42c9-8648-203c8aa14c2d",
   "metadata": {},
   "source": [
    "**Numpy ile farklı boyutlarda dizi oluşturma**"
   ]
  },
  {
   "cell_type": "code",
   "execution_count": 16,
   "id": "4fdfbe0d-35d7-438e-bd64-7c7b975d53ee",
   "metadata": {},
   "outputs": [],
   "source": [
    "#bir boyutlu dizi ouşturma\n",
    "birboyut=np.array([1,2,3,4])\n",
    "#iki boyutlu bir dizi oluşturma\n",
    "ikiboyut=np.array([[1,2,3,4],[5,6,7,8],[9,10,11,12]])"
   ]
  },
  {
   "cell_type": "code",
   "execution_count": 17,
   "id": "e4136a46-a07a-4343-ba8b-417d6bafa624",
   "metadata": {},
   "outputs": [
    {
     "data": {
      "text/plain": [
       "array([1, 2, 3, 4])"
      ]
     },
     "execution_count": 17,
     "metadata": {},
     "output_type": "execute_result"
    }
   ],
   "source": [
    "birboyut"
   ]
  },
  {
   "cell_type": "code",
   "execution_count": 18,
   "id": "4f12764f-924d-4216-be1f-7a2a0d73865b",
   "metadata": {},
   "outputs": [
    {
     "data": {
      "text/plain": [
       "array([[ 1,  2,  3,  4],\n",
       "       [ 5,  6,  7,  8],\n",
       "       [ 9, 10, 11, 12]])"
      ]
     },
     "execution_count": 18,
     "metadata": {},
     "output_type": "execute_result"
    }
   ],
   "source": [
    "ikiboyut"
   ]
  },
  {
   "cell_type": "markdown",
   "id": "36ee75a1-dd87-4a3b-8ba8-2feba5f9ad50",
   "metadata": {},
   "source": [
    "**Numpy yer tutucular**"
   ]
  },
  {
   "cell_type": "code",
   "execution_count": 19,
   "id": "e179bd24-31c4-443a-a8dd-a56ff0da636b",
   "metadata": {},
   "outputs": [
    {
     "data": {
      "text/plain": [
       "array([0., 0., 0., 0., 0., 0., 0.])"
      ]
     },
     "execution_count": 19,
     "metadata": {},
     "output_type": "execute_result"
    }
   ],
   "source": [
    "np.zeros(7) #7 sıfırdan oluşan tek dizi oluşturur"
   ]
  },
  {
   "cell_type": "code",
   "execution_count": 20,
   "id": "7ff3dc9c-afae-45f7-8ba0-8adb2e2c8fba",
   "metadata": {},
   "outputs": [
    {
     "data": {
      "text/plain": [
       "array([[0, 0, 0],\n",
       "       [0, 0, 0]])"
      ]
     },
     "execution_count": 20,
     "metadata": {},
     "output_type": "execute_result"
    }
   ],
   "source": [
    "np.zeros((2,3),dtype=int) #sıfırdan oluşan 2 boyutlu int dizisi oluşturur"
   ]
  },
  {
   "cell_type": "code",
   "execution_count": 23,
   "id": "ed0b4a1f-fe28-4e4c-90ce-db1be5219153",
   "metadata": {},
   "outputs": [
    {
     "data": {
      "text/plain": [
       "array([1., 1., 1.])"
      ]
     },
     "execution_count": 23,
     "metadata": {},
     "output_type": "execute_result"
    }
   ],
   "source": [
    "np.ones(3)"
   ]
  },
  {
   "cell_type": "code",
   "execution_count": 24,
   "id": "a4767f65-6b17-4d19-8bb7-39c42e2e8fd6",
   "metadata": {},
   "outputs": [
    {
     "data": {
      "text/plain": [
       "array([[5, 5, 5],\n",
       "       [5, 5, 5],\n",
       "       [5, 5, 5],\n",
       "       [5, 5, 5]])"
      ]
     },
     "execution_count": 24,
     "metadata": {},
     "output_type": "execute_result"
    }
   ],
   "source": [
    "np.full((4,3),5) #5 sayısından oluşan 2*3 lük dizi"
   ]
  },
  {
   "cell_type": "code",
   "execution_count": 25,
   "id": "7aebcb62-4143-4b35-b8ef-a63edf5afc51",
   "metadata": {},
   "outputs": [
    {
     "data": {
      "text/plain": [
       "array([ 2,  7, 12, 17])"
      ]
     },
     "execution_count": 25,
     "metadata": {},
     "output_type": "execute_result"
    }
   ],
   "source": [
    "np.arange(2,22,5) #başlangıç,bitiş ve artış değerine göre diz oluşturma"
   ]
  },
  {
   "cell_type": "code",
   "execution_count": 26,
   "id": "113c46ad-a5b2-4e72-9242-c3c2efaefc53",
   "metadata": {},
   "outputs": [
    {
     "data": {
      "text/plain": [
       "array([ 2.        ,  3.33333333,  4.66666667,  6.        ,  7.33333333,\n",
       "        8.66666667, 10.        ])"
      ]
     },
     "execution_count": 26,
     "metadata": {},
     "output_type": "execute_result"
    }
   ],
   "source": [
    "np.linspace(2,10,num=7) #başlangıç ve bitiş değeri aralığında belirtilen miktarda eşit aralık"
   ]
  },
  {
   "cell_type": "code",
   "execution_count": 27,
   "id": "b453373a-198c-4a58-a7da-a1680acdd231",
   "metadata": {},
   "outputs": [
    {
     "data": {
      "text/plain": [
       "array([[8, 7],\n",
       "       [7, 7],\n",
       "       [3, 5],\n",
       "       [4, 8],\n",
       "       [3, 5]])"
      ]
     },
     "execution_count": 27,
     "metadata": {},
     "output_type": "execute_result"
    }
   ],
   "source": [
    "np.random.randint(0,10,(5,2)) #0-10 aralığında 5*2 rasgele sayıdan oluşan 2 boyutlu dizi"
   ]
  },
  {
   "cell_type": "markdown",
   "id": "a4495481-bce1-4895-ad11-5baa01aef37f",
   "metadata": {},
   "source": [
    "**Diziler ile ilgili işlemler**"
   ]
  },
  {
   "cell_type": "code",
   "execution_count": 28,
   "id": "184d7e76-5f7c-4b52-9715-aca7724efed1",
   "metadata": {},
   "outputs": [
    {
     "data": {
      "text/plain": [
       "(3, 4)"
      ]
     },
     "execution_count": 28,
     "metadata": {},
     "output_type": "execute_result"
    }
   ],
   "source": [
    "#dizilerin eleman sayısını öğrenmek için shope komutu kullanılır\n",
    "dizi=np.array([[1,2,3,4],[5,6,7,8],[9,10,11,12]])\n",
    "dizi.shape"
   ]
  },
  {
   "cell_type": "code",
   "execution_count": 29,
   "id": "d2555d75-0b00-437e-9518-7d09cebb7cc2",
   "metadata": {},
   "outputs": [
    {
     "data": {
      "text/plain": [
       "2"
      ]
     },
     "execution_count": 29,
     "metadata": {},
     "output_type": "execute_result"
    }
   ],
   "source": [
    "#ndim dizi boyutu öğrenmek için kullanır\n",
    "dizi.ndim"
   ]
  },
  {
   "cell_type": "code",
   "execution_count": 30,
   "id": "d18e3e16-5d96-485f-b129-af3d73e2539a",
   "metadata": {},
   "outputs": [
    {
     "data": {
      "text/plain": [
       "12"
      ]
     },
     "execution_count": 30,
     "metadata": {},
     "output_type": "execute_result"
    }
   ],
   "source": [
    "#size dizideki toplam eleman sayısnı gösterir\n",
    "dizi.size"
   ]
  },
  {
   "cell_type": "code",
   "execution_count": 31,
   "id": "cb914739-3663-4093-99da-0d71aa1ad36c",
   "metadata": {},
   "outputs": [
    {
     "data": {
      "text/plain": [
       "4"
      ]
     },
     "execution_count": 31,
     "metadata": {},
     "output_type": "execute_result"
    }
   ],
   "source": [
    "dizi.itemsize #dizideki her bir elemanın bayt cinsinden değerini verir"
   ]
  },
  {
   "cell_type": "code",
   "execution_count": null,
   "id": "0ebc80b3-017f-45d8-9b44-aba7a0177463",
   "metadata": {},
   "outputs": [],
   "source": []
  }
 ],
 "metadata": {
  "kernelspec": {
   "display_name": "Python 3 (ipykernel)",
   "language": "python",
   "name": "python3"
  },
  "language_info": {
   "codemirror_mode": {
    "name": "ipython",
    "version": 3
   },
   "file_extension": ".py",
   "mimetype": "text/x-python",
   "name": "python",
   "nbconvert_exporter": "python",
   "pygments_lexer": "ipython3",
   "version": "3.11.7"
  }
 },
 "nbformat": 4,
 "nbformat_minor": 5
}
